{
 "cells": [
  {
   "attachments": {},
   "cell_type": "markdown",
   "metadata": {},
   "source": [
    "Two Sum"
   ]
  },
  {
   "cell_type": "code",
   "execution_count": 1,
   "metadata": {},
   "outputs": [],
   "source": [
    "class Solution:\n",
    "    def twoSum(self, nums: list[int], target: int) -> list[int]:\n",
    "        \n",
    "        d = {}\n",
    "        for i, j in enumerate(nums):\n",
    "            r = target - j\n",
    "            if r in d: return [d[r], i]\n",
    "            d[j] = i"
   ]
  },
  {
   "attachments": {},
   "cell_type": "markdown",
   "metadata": {},
   "source": [
    "Roman To Integer"
   ]
  },
  {
   "cell_type": "code",
   "execution_count": 2,
   "metadata": {},
   "outputs": [],
   "source": [
    "import functools as fn\n",
    "import operator as op\n",
    "\n",
    "class Solution:\n",
    "    lookup_table = {\n",
    "        \"I\": 1,\n",
    "        \"V\": 5,\n",
    "        \"X\": 10,\n",
    "        \"L\": 50,\n",
    "        \"C\": 100,\n",
    "        \"D\": 500,\n",
    "        \"M\": 1000,\n",
    "    }\n",
    "    ops = {\n",
    "        False: op.add,\n",
    "        True: op.sub\n",
    "    }\n",
    "    def romanToInt(self, s: str) -> int:\n",
    "        _, result = fn.reduce(\n",
    "            lambda state, c:  \n",
    "                (lambda num, prev_num, result:\n",
    "                    (num, self.ops[prev_num > num](result, num))\n",
    "                )(self.lookup_table[c], *state),\n",
    "            s[::-1],\n",
    "            (0, 0)  # prev_num, result\n",
    "        )\n",
    "        return result"
   ]
  },
  {
   "attachments": {},
   "cell_type": "markdown",
   "metadata": {},
   "source": [
    "Longest Commom Prefix"
   ]
  },
  {
   "cell_type": "code",
   "execution_count": 6,
   "metadata": {},
   "outputs": [],
   "source": [
    "class Solution:\n",
    "    def longestCommonPrefix(self, strs: list[str]) -> str:\n",
    "        # if len(strs) == 0:\n",
    "        #     return \"\"\n",
    "        # current = strs[0]\n",
    "        # for i in range(1,len(strs)):\n",
    "        #     temp = \"\"\n",
    "        #     if len(current) == 0:\n",
    "        #         break\n",
    "        # for j in range(len(strs[i])):\n",
    "        #     if j<len(current) and current[j] == strs[i][j]:\n",
    "        #         temp+=current[j]\n",
    "        #     else:\n",
    "        #        break\n",
    "        # current = temp\n",
    "        # return current\n",
    "        if len(strs) == 0:\n",
    "            return \"\"\n",
    "        else:\n",
    "            s1, s2 = max(strs), min(strs)\n",
    "            i, match = 0, 0\n",
    "            while i < len(s1) and i < len(s2) and s1[i] == s2[i]:\n",
    "                i, match = i+1, match + 1\n",
    "            return s1[0:match]"
   ]
  },
  {
   "attachments": {},
   "cell_type": "markdown",
   "metadata": {},
   "source": [
    "Valid Parenthesis"
   ]
  },
  {
   "cell_type": "code",
   "execution_count": 8,
   "metadata": {},
   "outputs": [],
   "source": [
    "class Solution:\n",
    "    def isValid(self, s: str) -> bool:\n",
    "        stack = []\n",
    "        for ele in s:\n",
    "            if(ele == '{' or ele == '(' or ele == '['):\n",
    "                stack.append(ele)\n",
    "            else:\n",
    "                if not stack:\n",
    "                    return False\n",
    "                if(stack[len(stack)-1] == '(' and ele == ')'):\n",
    "                    stack.pop()\n",
    "                elif(stack[len(stack)-1] == '{' and ele == '}'):\n",
    "                    stack.pop()\n",
    "                elif(stack[len(stack)-1] == '[' and ele == ']'):\n",
    "                    stack.pop()\n",
    "                else:\n",
    "                    return False\n",
    "        return not stack\n"
   ]
  },
  {
   "cell_type": "code",
   "execution_count": 10,
   "metadata": {},
   "outputs": [
    {
     "data": {
      "text/plain": [
       "True"
      ]
     },
     "execution_count": 10,
     "metadata": {},
     "output_type": "execute_result"
    }
   ],
   "source": [
    "S = Solution()\n",
    "S.isValid(\"\"\"()\"\"\")"
   ]
  },
  {
   "cell_type": "code",
   "execution_count": null,
   "metadata": {},
   "outputs": [],
   "source": [
    "# Definition for singly-linked list.\n",
    "class ListNode:\n",
    "    def __init__(self, val=0, next=None):\n",
    "        self.val = val\n",
    "        self.next = next\n",
    "def mergeTwoLists(self, list1: ListNode, list2:ListNode) ->ListNode:\n",
    "        list3 = ListNode(0)\n",
    "        current = list3\n",
    "        while list1 and list2:\n",
    "            if list1.val <= list2.val:\n",
    "                current.next = ListNode(list1.val)\n",
    "                list1 = list1.next\n",
    "            else:\n",
    "                current.next = ListNode(list2.val)\n",
    "                list2 = list2.next\n",
    "            current = current.next\n",
    "        current.next = list1 if list1 else list2\n",
    "        return list3.next"
   ]
  },
  {
   "cell_type": "code",
   "execution_count": null,
   "metadata": {},
   "outputs": [],
   "source": [
    "def removeDuplicates(self, nums: list[int]) -> int:\n",
    "        ans = 1\n",
    "        for i in range(1, len(nums)):\n",
    "            if nums[i] != nums[i - 1]: \n",
    "                nums[ans] = nums[i] \n",
    "                ans += 1\n",
    "        return ans"
   ]
  }
 ],
 "metadata": {
  "kernelspec": {
   "display_name": "Python 3",
   "language": "python",
   "name": "python3"
  },
  "language_info": {
   "codemirror_mode": {
    "name": "ipython",
    "version": 3
   },
   "file_extension": ".py",
   "mimetype": "text/x-python",
   "name": "python",
   "nbconvert_exporter": "python",
   "pygments_lexer": "ipython3",
   "version": "3.10.11"
  },
  "orig_nbformat": 4
 },
 "nbformat": 4,
 "nbformat_minor": 2
}
